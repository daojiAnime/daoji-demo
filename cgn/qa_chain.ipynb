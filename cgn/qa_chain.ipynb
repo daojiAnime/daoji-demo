{
 "cells": [
  {
   "cell_type": "markdown",
   "metadata": {},
   "source": [
    "# Polars 替代 Pandas 优化性能\n",
    "\n",
    "Polars 使用 Rust 实现，性能比 Pandas 高很多，但是使用方式和 Pandas 类似。\n",
    "\n",
    "[Polars 官网教程](https://docs.pola.rs/user-guide/getting-started/)"
   ]
  },
  {
   "cell_type": "code",
   "execution_count": null,
   "metadata": {},
   "outputs": [
    {
     "data": {
      "text/html": [
       "<pre style=\"white-space:pre;overflow-x:auto;line-height:normal;font-family:Menlo,'DejaVu Sans Mono',consolas,'Courier New',monospace\">shape: <span style=\"font-weight: bold\">(</span><span style=\"color: #008080; text-decoration-color: #008080; font-weight: bold\">4</span>, <span style=\"color: #008080; text-decoration-color: #008080; font-weight: bold\">4</span><span style=\"font-weight: bold\">)</span>\n",
       "┌────────────────┬────────────┬────────┬────────┐\n",
       "│ name           ┆ birthdate  ┆ weight ┆ height │\n",
       "│ ---            ┆ ---        ┆ ---    ┆ ---    │\n",
       "│ str            ┆ date       ┆ f64    ┆ f64    │\n",
       "╞════════════════╪════════════╪════════╪════════╡\n",
       "│ Alice Archer   ┆ <span style=\"color: #008080; text-decoration-color: #008080; font-weight: bold\">1997</span>-<span style=\"color: #008080; text-decoration-color: #008080; font-weight: bold\">01</span>-<span style=\"color: #008080; text-decoration-color: #008080; font-weight: bold\">10</span> ┆ <span style=\"color: #008080; text-decoration-color: #008080; font-weight: bold\">57.9</span>   ┆ <span style=\"color: #008080; text-decoration-color: #008080; font-weight: bold\">1.56</span>   │\n",
       "│ Ben Brown      ┆ <span style=\"color: #008080; text-decoration-color: #008080; font-weight: bold\">1985</span>-<span style=\"color: #008080; text-decoration-color: #008080; font-weight: bold\">02</span>-<span style=\"color: #008080; text-decoration-color: #008080; font-weight: bold\">15</span> ┆ <span style=\"color: #008080; text-decoration-color: #008080; font-weight: bold\">72.5</span>   ┆ <span style=\"color: #008080; text-decoration-color: #008080; font-weight: bold\">1.77</span>   │\n",
       "│ Chloe Cooper   ┆ <span style=\"color: #008080; text-decoration-color: #008080; font-weight: bold\">1983</span>-<span style=\"color: #008080; text-decoration-color: #008080; font-weight: bold\">03</span>-<span style=\"color: #008080; text-decoration-color: #008080; font-weight: bold\">22</span> ┆ <span style=\"color: #008080; text-decoration-color: #008080; font-weight: bold\">53.6</span>   ┆ <span style=\"color: #008080; text-decoration-color: #008080; font-weight: bold\">1.65</span>   │\n",
       "│ Daniel Donovan ┆ <span style=\"color: #008080; text-decoration-color: #008080; font-weight: bold\">1981</span>-<span style=\"color: #008080; text-decoration-color: #008080; font-weight: bold\">04</span>-<span style=\"color: #008080; text-decoration-color: #008080; font-weight: bold\">30</span> ┆ <span style=\"color: #008080; text-decoration-color: #008080; font-weight: bold\">83.1</span>   ┆ <span style=\"color: #008080; text-decoration-color: #008080; font-weight: bold\">1.75</span>   │\n",
       "└────────────────┴────────────┴────────┴────────┘\n",
       "</pre>\n"
      ],
      "text/plain": [
       "shape: \u001b[1m(\u001b[0m\u001b[1;36m4\u001b[0m, \u001b[1;36m4\u001b[0m\u001b[1m)\u001b[0m\n",
       "┌────────────────┬────────────┬────────┬────────┐\n",
       "│ name           ┆ birthdate  ┆ weight ┆ height │\n",
       "│ ---            ┆ ---        ┆ ---    ┆ ---    │\n",
       "│ str            ┆ date       ┆ f64    ┆ f64    │\n",
       "╞════════════════╪════════════╪════════╪════════╡\n",
       "│ Alice Archer   ┆ \u001b[1;36m1997\u001b[0m-\u001b[1;36m01\u001b[0m-\u001b[1;36m10\u001b[0m ┆ \u001b[1;36m57.9\u001b[0m   ┆ \u001b[1;36m1.56\u001b[0m   │\n",
       "│ Ben Brown      ┆ \u001b[1;36m1985\u001b[0m-\u001b[1;36m02\u001b[0m-\u001b[1;36m15\u001b[0m ┆ \u001b[1;36m72.5\u001b[0m   ┆ \u001b[1;36m1.77\u001b[0m   │\n",
       "│ Chloe Cooper   ┆ \u001b[1;36m1983\u001b[0m-\u001b[1;36m03\u001b[0m-\u001b[1;36m22\u001b[0m ┆ \u001b[1;36m53.6\u001b[0m   ┆ \u001b[1;36m1.65\u001b[0m   │\n",
       "│ Daniel Donovan ┆ \u001b[1;36m1981\u001b[0m-\u001b[1;36m04\u001b[0m-\u001b[1;36m30\u001b[0m ┆ \u001b[1;36m83.1\u001b[0m   ┆ \u001b[1;36m1.75\u001b[0m   │\n",
       "└────────────────┴────────────┴────────┴────────┘\n"
      ]
     },
     "metadata": {},
     "output_type": "display_data"
    }
   ],
   "source": [
    "import datetime as dt\n",
    "\n",
    "import polars as pl\n",
    "import rich\n",
    "\n",
    "df = pl.DataFrame(\n",
    "    {\n",
    "        \"name\": [\"Alice Archer\", \"Ben Brown\", \"Chloe Cooper\", \"Daniel Donovan\"],\n",
    "        \"birthdate\": [\n",
    "            dt.date(1997, 1, 10),\n",
    "            dt.date(1985, 2, 15),\n",
    "            dt.date(1983, 3, 22),\n",
    "            dt.date(1981, 4, 30),\n",
    "        ],\n",
    "        \"weight\": [57.9, 72.5, 53.6, 83.1],  # (kg)\n",
    "        \"height\": [1.56, 1.77, 1.65, 1.75],  # (m)\n",
    "    }\n",
    ")\n",
    "\n",
    "rich.print(df)\n"
   ]
  },
  {
   "cell_type": "code",
   "execution_count": 8,
   "metadata": {},
   "outputs": [
    {
     "data": {
      "text/html": [
       "<pre style=\"white-space:pre;overflow-x:auto;line-height:normal;font-family:Menlo,'DejaVu Sans Mono',consolas,'Courier New',monospace\">shape: <span style=\"font-weight: bold\">(</span><span style=\"color: #008080; text-decoration-color: #008080; font-weight: bold\">5</span>, <span style=\"color: #008080; text-decoration-color: #008080; font-weight: bold\">4</span><span style=\"font-weight: bold\">)</span>\n",
       "┌───────────────────────────────┬──────────┬───────────────────────┬───────────────────────────────┐\n",
       "│ 隐患                          ┆ 一级标签 ┆ 二级标签              ┆ 三级标签                      │\n",
       "│ ---                           ┆ ---      ┆ ---                   ┆ ---                           │\n",
       "│ str                           ┆ str      ┆ str                   ┆ str                           │\n",
       "╞═══════════════════════════════╪══════════╪═══════════════════════╪═══════════════════════════════╡\n",
       "│ 3VVP503VV阀门在关闭过程中突然 ┆ 物的因素 ┆ <span style=\"color: #008080; text-decoration-color: #008080; font-weight: bold\">11</span> 设备类缺陷         ┆ <span style=\"color: #008080; text-decoration-color: #008080; font-weight: bold\">11.1</span> 跑、冒、滴、漏           │\n",
       "│ 有蒸汽从阀杆泄漏，阀门…       ┆          ┆                       ┆                               │\n",
       "│ HE2厂房外西侧集装箱旁电箱箱体 ┆ 物的因素 ┆ <span style=\"color: #008080; text-decoration-color: #008080; font-weight: bold\">17</span> 综合类物的缺陷     ┆ <span style=\"color: #008080; text-decoration-color: #008080; font-weight: bold\">17.7</span> 锈蚀、划痕、磕碰、污损   │\n",
       "│ 锈蚀破损严重                  ┆          ┆                       ┆                               │\n",
       "│ 4CGR070VH手轮损坏，不易操作且 ┆ 物的因素 ┆ <span style=\"color: #008080; text-decoration-color: #008080; font-weight: bold\">11</span> 设备类缺陷         ┆ <span style=\"color: #008080; text-decoration-color: #008080; font-weight: bold\">11.4</span> 设备外壳、零部件部件损坏 │\n",
       "│ 有划伤手的风险                ┆          ┆                       ┆ 、脱落、老化等缺陷            │\n",
       "│ 现场巡视发现，5K118房间房顶处 ┆ 物的因素 ┆ <span style=\"color: #008080; text-decoration-color: #008080; font-weight: bold\">17</span> 综合类物的缺陷     ┆ <span style=\"color: #008080; text-decoration-color: #008080; font-weight: bold\">17.3</span> 电缆桥架损伤             │\n",
       "│ 有一电缆槽架一端吊架松脱，…   ┆          ┆                       ┆                               │\n",
       "│ YSP与YGS联合检查发现，2MX3A4  ┆ 物的因素 ┆ <span style=\"color: #008080; text-decoration-color: #008080; font-weight: bold\">15</span> 固定式钢梯及钢平台 ┆ <span style=\"color: #008080; text-decoration-color: #008080; font-weight: bold\">15.1</span> 固定式钢梯结构与设计不符 │\n",
       "│ ，<span style=\"color: #008080; text-decoration-color: #008080; font-weight: bold\">2</span>#钢梯附近，2G…             ┆          ┆                       ┆ 合规范                        │\n",
       "└───────────────────────────────┴──────────┴───────────────────────┴───────────────────────────────┘\n",
       "</pre>\n"
      ],
      "text/plain": [
       "shape: \u001b[1m(\u001b[0m\u001b[1;36m5\u001b[0m, \u001b[1;36m4\u001b[0m\u001b[1m)\u001b[0m\n",
       "┌───────────────────────────────┬──────────┬───────────────────────┬───────────────────────────────┐\n",
       "│ 隐患                          ┆ 一级标签 ┆ 二级标签              ┆ 三级标签                      │\n",
       "│ ---                           ┆ ---      ┆ ---                   ┆ ---                           │\n",
       "│ str                           ┆ str      ┆ str                   ┆ str                           │\n",
       "╞═══════════════════════════════╪══════════╪═══════════════════════╪═══════════════════════════════╡\n",
       "│ 3VVP503VV阀门在关闭过程中突然 ┆ 物的因素 ┆ \u001b[1;36m11\u001b[0m 设备类缺陷         ┆ \u001b[1;36m11.1\u001b[0m 跑、冒、滴、漏           │\n",
       "│ 有蒸汽从阀杆泄漏，阀门…       ┆          ┆                       ┆                               │\n",
       "│ HE2厂房外西侧集装箱旁电箱箱体 ┆ 物的因素 ┆ \u001b[1;36m17\u001b[0m 综合类物的缺陷     ┆ \u001b[1;36m17.7\u001b[0m 锈蚀、划痕、磕碰、污损   │\n",
       "│ 锈蚀破损严重                  ┆          ┆                       ┆                               │\n",
       "│ 4CGR070VH手轮损坏，不易操作且 ┆ 物的因素 ┆ \u001b[1;36m11\u001b[0m 设备类缺陷         ┆ \u001b[1;36m11.4\u001b[0m 设备外壳、零部件部件损坏 │\n",
       "│ 有划伤手的风险                ┆          ┆                       ┆ 、脱落、老化等缺陷            │\n",
       "│ 现场巡视发现，5K118房间房顶处 ┆ 物的因素 ┆ \u001b[1;36m17\u001b[0m 综合类物的缺陷     ┆ \u001b[1;36m17.3\u001b[0m 电缆桥架损伤             │\n",
       "│ 有一电缆槽架一端吊架松脱，…   ┆          ┆                       ┆                               │\n",
       "│ YSP与YGS联合检查发现，2MX3A4  ┆ 物的因素 ┆ \u001b[1;36m15\u001b[0m 固定式钢梯及钢平台 ┆ \u001b[1;36m15.1\u001b[0m 固定式钢梯结构与设计不符 │\n",
       "│ ，\u001b[1;36m2\u001b[0m#钢梯附近，2G…             ┆          ┆                       ┆ 合规范                        │\n",
       "└───────────────────────────────┴──────────┴───────────────────────┴───────────────────────────────┘\n"
      ]
     },
     "metadata": {},
     "output_type": "display_data"
    }
   ],
   "source": [
    "df = pl.read_excel(r\"*.xlsx\")\n",
    "\n",
    "rich.print(df.head())\n"
   ]
  },
  {
   "cell_type": "markdown",
   "metadata": {},
   "source": [
    "### Polars 延迟执行示例"
   ]
  },
  {
   "cell_type": "code",
   "execution_count": 16,
   "metadata": {},
   "outputs": [
    {
     "data": {
      "text/html": [
       "<pre style=\"white-space:pre;overflow-x:auto;line-height:normal;font-family:Menlo,'DejaVu Sans Mono',consolas,'Courier New',monospace\"><span style=\"font-weight: bold\">{</span>\n",
       "    <span style=\"color: #008000; text-decoration-color: #008000\">'隐患标注(1700条)10.10'</span>: shape: <span style=\"font-weight: bold\">(</span>1_706, <span style=\"color: #008080; text-decoration-color: #008080; font-weight: bold\">4</span><span style=\"font-weight: bold\">)</span>\n",
       "┌───────────────────────────────┬──────────┬───────────────────────┬───────────────────────────────┐\n",
       "│ 隐患                          ┆ 一级标签 ┆ 二级标签              ┆ 三级标签                      │\n",
       "│ ---                           ┆ ---      ┆ ---                   ┆ ---                           │\n",
       "│ str                           ┆ str      ┆ str                   ┆ str                           │\n",
       "╞═══════════════════════════════╪══════════╪═══════════════════════╪═══════════════════════════════╡\n",
       "│ 3VVP503VV阀门在关闭过程中突然 ┆ 物的因素 ┆ <span style=\"color: #008080; text-decoration-color: #008080; font-weight: bold\">11</span> 设备类缺陷         ┆ <span style=\"color: #008080; text-decoration-color: #008080; font-weight: bold\">11.1</span> 跑、冒、滴、漏           │\n",
       "│ 有蒸汽从阀杆泄漏，阀门…       ┆          ┆                       ┆                               │\n",
       "│ HE2厂房外西侧集装箱旁电箱箱体 ┆ 物的因素 ┆ <span style=\"color: #008080; text-decoration-color: #008080; font-weight: bold\">17</span> 综合类物的缺陷     ┆ <span style=\"color: #008080; text-decoration-color: #008080; font-weight: bold\">17.7</span> 锈蚀、划痕、磕碰、污损   │\n",
       "│ 锈蚀破损严重                  ┆          ┆                       ┆                               │\n",
       "│ 4CGR070VH手轮损坏，不易操作且 ┆ 物的因素 ┆ <span style=\"color: #008080; text-decoration-color: #008080; font-weight: bold\">11</span> 设备类缺陷         ┆ <span style=\"color: #008080; text-decoration-color: #008080; font-weight: bold\">11.4</span> 设备外壳、零部件部件损坏 │\n",
       "│ 有划伤手的风险                ┆          ┆                       ┆ 、脱落、老化等缺陷            │\n",
       "│ 现场巡视发现，5K118房间房顶处 ┆ 物的因素 ┆ <span style=\"color: #008080; text-decoration-color: #008080; font-weight: bold\">17</span> 综合类物的缺陷     ┆ <span style=\"color: #008080; text-decoration-color: #008080; font-weight: bold\">17.3</span> 电缆桥架损伤             │\n",
       "│ 有一电缆槽架一端吊架松脱，…   ┆          ┆                       ┆                               │\n",
       "│ YSP与YGS联合检查发现，2MX3A4  ┆ 物的因素 ┆ <span style=\"color: #008080; text-decoration-color: #008080; font-weight: bold\">15</span> 固定式钢梯及钢平台 ┆ <span style=\"color: #008080; text-decoration-color: #008080; font-weight: bold\">15.1</span> 固定式钢梯结构与设计不符 │\n",
       "│ ，<span style=\"color: #008080; text-decoration-color: #008080; font-weight: bold\">2</span>#钢梯附近，2G…             ┆          ┆                       ┆ 合规范                        │\n",
       "│ …                             ┆ …        ┆ …                     ┆ …                             │\n",
       "│ 7PX厂房5/6CFI耙斗处安装8个竖  ┆ 物的因素 ┆ <span style=\"color: #008080; text-decoration-color: #008080; font-weight: bold\">15</span> 固定式钢梯及钢平台 ┆ <span style=\"color: #008080; text-decoration-color: #008080; font-weight: bold\">15.1</span> 固定式钢梯结构与设计不符 │\n",
       "│ 梯的顶部踏棍均未与平台…       ┆          ┆                       ┆ 合规范                        │\n",
       "│ 5LX-<span style=\"color: #008080; text-decoration-color: #008080; font-weight: bold\">3.</span>4米往GA廊道竖梯自闭门弹 ┆ 物的因素 ┆ <span style=\"color: #008080; text-decoration-color: #008080; font-weight: bold\">15</span> 固定式钢梯及钢平台 ┆ <span style=\"color: #008080; text-decoration-color: #008080; font-weight: bold\">15.2</span> 工业防护栏杆及钢平台结构 │\n",
       "│ 簧松动无法自动关闭。          ┆          ┆                       ┆ 与设计不符合规范              │\n",
       "│ 5号机常规岛6m                 ┆ 物的因素 ┆ <span style=\"color: #008080; text-decoration-color: #008080; font-weight: bold\">15</span> 固定式钢梯及钢平台 ┆ <span style=\"color: #008080; text-decoration-color: #008080; font-weight: bold\">15.2</span> 工业防护栏杆及钢平台结构 │\n",
       "│ ARE系统周边平台一个弹簧缺失   ┆          ┆                       ┆ 与设计不符合规范              │\n",
       "│ 5MX厂房0米西南角盖板不平整，  ┆ 环境因素 ┆ <span style=\"color: #008080; text-decoration-color: #008080; font-weight: bold\">18</span> 环境缺陷           ┆ <span style=\"color: #008080; text-decoration-color: #008080; font-weight: bold\">18.4</span> 场地不平，容易磕碰       │\n",
       "│ 存在人员跌倒风险              ┆          ┆                       ┆                               │\n",
       "│ 3ARE045VL爬上平台时，手扶护栏 ┆ 物的因素 ┆ <span style=\"color: #008080; text-decoration-color: #008080; font-weight: bold\">15</span> 固定式钢梯及钢平台 ┆ <span style=\"color: #008080; text-decoration-color: #008080; font-weight: bold\">15.2</span> 工业防护栏杆及钢平台结构 │\n",
       "│ 松动，有人员滑落风险，…       ┆          ┆                       ┆ 与设计不符合规范              │\n",
       "└───────────────────────────────┴──────────┴───────────────────────┴───────────────────────────────┘,\n",
       "    <span style=\"color: #008000; text-decoration-color: #008000\">'Sheet1'</span>: shape: <span style=\"font-weight: bold\">(</span><span style=\"color: #008080; text-decoration-color: #008080; font-weight: bold\">2</span>, <span style=\"color: #008080; text-decoration-color: #008080; font-weight: bold\">2</span><span style=\"font-weight: bold\">)</span>\n",
       "┌───────┬─────┐\n",
       "│ name  ┆ age │\n",
       "│ ---   ┆ --- │\n",
       "│ str   ┆ i64 │\n",
       "╞═══════╪═════╡\n",
       "│ daoji ┆ <span style=\"color: #008080; text-decoration-color: #008080; font-weight: bold\">18</span>  │\n",
       "│ ali   ┆ <span style=\"color: #008080; text-decoration-color: #008080; font-weight: bold\">16</span>  │\n",
       "└───────┴─────┘,\n",
       "    <span style=\"color: #008000; text-decoration-color: #008000\">'Sheet2'</span>: shape: <span style=\"font-weight: bold\">(</span><span style=\"color: #008080; text-decoration-color: #008080; font-weight: bold\">2</span>, <span style=\"color: #008080; text-decoration-color: #008080; font-weight: bold\">2</span><span style=\"font-weight: bold\">)</span>\n",
       "┌──────────┬───────┐\n",
       "│ type     ┆ state │\n",
       "│ ---      ┆ ---   │\n",
       "│ str      ┆ str   │\n",
       "╞══════════╪═══════╡\n",
       "│ complied ┆ yes   │\n",
       "│ started  ┆ no    │\n",
       "└──────────┴───────┘\n",
       "<span style=\"font-weight: bold\">}</span>\n",
       "</pre>\n"
      ],
      "text/plain": [
       "\u001b[1m{\u001b[0m\n",
       "    \u001b[32m'隐患标注\u001b[0m\u001b[32m(\u001b[0m\u001b[32m1700条\u001b[0m\u001b[32m)\u001b[0m\u001b[32m10.10'\u001b[0m: shape: \u001b[1m(\u001b[0m1_706, \u001b[1;36m4\u001b[0m\u001b[1m)\u001b[0m\n",
       "┌───────────────────────────────┬──────────┬───────────────────────┬───────────────────────────────┐\n",
       "│ 隐患                          ┆ 一级标签 ┆ 二级标签              ┆ 三级标签                      │\n",
       "│ ---                           ┆ ---      ┆ ---                   ┆ ---                           │\n",
       "│ str                           ┆ str      ┆ str                   ┆ str                           │\n",
       "╞═══════════════════════════════╪══════════╪═══════════════════════╪═══════════════════════════════╡\n",
       "│ 3VVP503VV阀门在关闭过程中突然 ┆ 物的因素 ┆ \u001b[1;36m11\u001b[0m 设备类缺陷         ┆ \u001b[1;36m11.1\u001b[0m 跑、冒、滴、漏           │\n",
       "│ 有蒸汽从阀杆泄漏，阀门…       ┆          ┆                       ┆                               │\n",
       "│ HE2厂房外西侧集装箱旁电箱箱体 ┆ 物的因素 ┆ \u001b[1;36m17\u001b[0m 综合类物的缺陷     ┆ \u001b[1;36m17.7\u001b[0m 锈蚀、划痕、磕碰、污损   │\n",
       "│ 锈蚀破损严重                  ┆          ┆                       ┆                               │\n",
       "│ 4CGR070VH手轮损坏，不易操作且 ┆ 物的因素 ┆ \u001b[1;36m11\u001b[0m 设备类缺陷         ┆ \u001b[1;36m11.4\u001b[0m 设备外壳、零部件部件损坏 │\n",
       "│ 有划伤手的风险                ┆          ┆                       ┆ 、脱落、老化等缺陷            │\n",
       "│ 现场巡视发现，5K118房间房顶处 ┆ 物的因素 ┆ \u001b[1;36m17\u001b[0m 综合类物的缺陷     ┆ \u001b[1;36m17.3\u001b[0m 电缆桥架损伤             │\n",
       "│ 有一电缆槽架一端吊架松脱，…   ┆          ┆                       ┆                               │\n",
       "│ YSP与YGS联合检查发现，2MX3A4  ┆ 物的因素 ┆ \u001b[1;36m15\u001b[0m 固定式钢梯及钢平台 ┆ \u001b[1;36m15.1\u001b[0m 固定式钢梯结构与设计不符 │\n",
       "│ ，\u001b[1;36m2\u001b[0m#钢梯附近，2G…             ┆          ┆                       ┆ 合规范                        │\n",
       "│ …                             ┆ …        ┆ …                     ┆ …                             │\n",
       "│ 7PX厂房5/6CFI耙斗处安装8个竖  ┆ 物的因素 ┆ \u001b[1;36m15\u001b[0m 固定式钢梯及钢平台 ┆ \u001b[1;36m15.1\u001b[0m 固定式钢梯结构与设计不符 │\n",
       "│ 梯的顶部踏棍均未与平台…       ┆          ┆                       ┆ 合规范                        │\n",
       "│ 5LX-\u001b[1;36m3.\u001b[0m4米往GA廊道竖梯自闭门弹 ┆ 物的因素 ┆ \u001b[1;36m15\u001b[0m 固定式钢梯及钢平台 ┆ \u001b[1;36m15.2\u001b[0m 工业防护栏杆及钢平台结构 │\n",
       "│ 簧松动无法自动关闭。          ┆          ┆                       ┆ 与设计不符合规范              │\n",
       "│ 5号机常规岛6m                 ┆ 物的因素 ┆ \u001b[1;36m15\u001b[0m 固定式钢梯及钢平台 ┆ \u001b[1;36m15.2\u001b[0m 工业防护栏杆及钢平台结构 │\n",
       "│ ARE系统周边平台一个弹簧缺失   ┆          ┆                       ┆ 与设计不符合规范              │\n",
       "│ 5MX厂房0米西南角盖板不平整，  ┆ 环境因素 ┆ \u001b[1;36m18\u001b[0m 环境缺陷           ┆ \u001b[1;36m18.4\u001b[0m 场地不平，容易磕碰       │\n",
       "│ 存在人员跌倒风险              ┆          ┆                       ┆                               │\n",
       "│ 3ARE045VL爬上平台时，手扶护栏 ┆ 物的因素 ┆ \u001b[1;36m15\u001b[0m 固定式钢梯及钢平台 ┆ \u001b[1;36m15.2\u001b[0m 工业防护栏杆及钢平台结构 │\n",
       "│ 松动，有人员滑落风险，…       ┆          ┆                       ┆ 与设计不符合规范              │\n",
       "└───────────────────────────────┴──────────┴───────────────────────┴───────────────────────────────┘,\n",
       "    \u001b[32m'Sheet1'\u001b[0m: shape: \u001b[1m(\u001b[0m\u001b[1;36m2\u001b[0m, \u001b[1;36m2\u001b[0m\u001b[1m)\u001b[0m\n",
       "┌───────┬─────┐\n",
       "│ name  ┆ age │\n",
       "│ ---   ┆ --- │\n",
       "│ str   ┆ i64 │\n",
       "╞═══════╪═════╡\n",
       "│ daoji ┆ \u001b[1;36m18\u001b[0m  │\n",
       "│ ali   ┆ \u001b[1;36m16\u001b[0m  │\n",
       "└───────┴─────┘,\n",
       "    \u001b[32m'Sheet2'\u001b[0m: shape: \u001b[1m(\u001b[0m\u001b[1;36m2\u001b[0m, \u001b[1;36m2\u001b[0m\u001b[1m)\u001b[0m\n",
       "┌──────────┬───────┐\n",
       "│ type     ┆ state │\n",
       "│ ---      ┆ ---   │\n",
       "│ str      ┆ str   │\n",
       "╞══════════╪═══════╡\n",
       "│ complied ┆ yes   │\n",
       "│ started  ┆ no    │\n",
       "└──────────┴───────┘\n",
       "\u001b[1m}\u001b[0m\n"
      ]
     },
     "metadata": {},
     "output_type": "display_data"
    }
   ],
   "source": [
    "import polars as pl\n",
    "\n",
    "dfs = pl.read_excel(\"*.xlsx\", sheet_id=0)\n",
    "\n",
    "rich.print(dfs)"
   ]
  },
  {
   "cell_type": "markdown",
   "metadata": {},
   "source": []
  }
 ],
 "metadata": {
  "kernelspec": {
   "display_name": ".venv",
   "language": "python",
   "name": "python3"
  },
  "language_info": {
   "codemirror_mode": {
    "name": "ipython",
    "version": 3
   },
   "file_extension": ".py",
   "mimetype": "text/x-python",
   "name": "python",
   "nbconvert_exporter": "python",
   "pygments_lexer": "ipython3",
   "version": "3.12.9"
  }
 },
 "nbformat": 4,
 "nbformat_minor": 2
}
