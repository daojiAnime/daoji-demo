{
 "cells": [
  {
   "cell_type": "code",
   "execution_count": 3,
   "metadata": {},
   "outputs": [],
   "source": [
    "from pydantic import BaseModel, Field, computed_field\n",
    "\n",
    "\n",
    "class User(BaseModel):\n",
    "    role: str = Field(default=\"superuser\", description=\"The role of the user\")\n",
    "\n",
    "    @computed_field\n",
    "    def is_admin(self) -> bool:\n",
    "        return self.role == \"admin\"\n",
    "\n",
    "    @computed_field\n",
    "    def is_superuser(self) -> bool:\n",
    "        return self.role == \"superuser\"\n"
   ]
  },
  {
   "cell_type": "code",
   "execution_count": 4,
   "metadata": {},
   "outputs": [
    {
     "data": {
      "text/plain": [
       "{'role': 'admin', 'is_admin': True, 'is_superuser': False}"
      ]
     },
     "execution_count": 4,
     "metadata": {},
     "output_type": "execute_result"
    }
   ],
   "source": [
    "User(role=\"admin\").model_dump()"
   ]
  }
 ],
 "metadata": {
  "kernelspec": {
   "display_name": ".venv",
   "language": "python",
   "name": "python3"
  },
  "language_info": {
   "codemirror_mode": {
    "name": "ipython",
    "version": 3
   },
   "file_extension": ".py",
   "mimetype": "text/x-python",
   "name": "python",
   "nbconvert_exporter": "python",
   "pygments_lexer": "ipython3",
   "version": "3.12.9"
  }
 },
 "nbformat": 4,
 "nbformat_minor": 2
}
